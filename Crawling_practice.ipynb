{
  "nbformat": 4,
  "nbformat_minor": 0,
  "metadata": {
    "colab": {
      "provenance": [],
      "authorship_tag": "ABX9TyM3NivwQcL+c7yk58T3wfp2",
      "include_colab_link": true
    },
    "kernelspec": {
      "name": "python3",
      "display_name": "Python 3"
    },
    "language_info": {
      "name": "python"
    }
  },
  "cells": [
    {
      "cell_type": "markdown",
      "metadata": {
        "id": "view-in-github",
        "colab_type": "text"
      },
      "source": [
        "<a href=\"https://colab.research.google.com/github/Jiadia22/2025-AI-Application-Practice/blob/main/Crawling_practice.ipynb\" target=\"_parent\"><img src=\"https://colab.research.google.com/assets/colab-badge.svg\" alt=\"Open In Colab\"/></a>"
      ]
    },
    {
      "cell_type": "code",
      "source": [
        "from google.colab import drive\n",
        "drive.mount('/content/drive')"
      ],
      "metadata": {
        "colab": {
          "base_uri": "https://localhost:8080/"
        },
        "id": "G06Km_tXMkeC",
        "outputId": "cf636748-8fd3-4aeb-98a8-3ffaf796dac3"
      },
      "execution_count": 1,
      "outputs": [
        {
          "output_type": "stream",
          "name": "stdout",
          "text": [
            "Mounted at /content/drive\n"
          ]
        }
      ]
    },
    {
      "cell_type": "code",
      "source": [
        "!pip install BeautifulSoup4"
      ],
      "metadata": {
        "colab": {
          "base_uri": "https://localhost:8080/"
        },
        "id": "9HUPi6JUM8Hw",
        "outputId": "82a5e885-e072-4922-dcb9-8efb1575bbd7"
      },
      "execution_count": 3,
      "outputs": [
        {
          "output_type": "stream",
          "name": "stdout",
          "text": [
            "Requirement already satisfied: BeautifulSoup4 in /usr/local/lib/python3.11/dist-packages (4.13.3)\n",
            "Requirement already satisfied: soupsieve>1.2 in /usr/local/lib/python3.11/dist-packages (from BeautifulSoup4) (2.6)\n",
            "Requirement already satisfied: typing-extensions>=4.0.0 in /usr/local/lib/python3.11/dist-packages (from BeautifulSoup4) (4.13.1)\n"
          ]
        }
      ]
    },
    {
      "cell_type": "code",
      "source": [
        "from bs4 import BeautifulSoup\n",
        "import urllib.request\n",
        "import pandas as pd\n",
        "import datetime\n",
        "\n",
        "def hollys_store(result):\n",
        "  for page in range(1,49):\n",
        "    Hollys_url = \"https://www.hollys.co.kr/store/korea/korStore2.do\"\n",
        "    print(str(page) +\" \" + Hollys_url)\n",
        "    html = urllib.request.urlopen(Hollys_url)\n",
        "    soupHollys = BeautifulSoup(html, 'html.parser')\n",
        "    tag_tbody = soupHollys.find('tbody')\n",
        "    for store in tag_tbody.find_all('tr'):\n",
        "      if len(store) <= 3:\n",
        "        break\n",
        "      store_td = store.find_all('td')\n",
        "      store_name = store_td[1].string\n",
        "      store_sido = store_td[0].string\n",
        "      store_address = store_td[3].string\n",
        "      store_phone = store_td[5].string\n",
        "      result.append([store_name] + [store_sido] + [store_address] + [store_phone])\n",
        "  return\n",
        "\n",
        "def main():\n",
        "  result = []\n",
        "  print('Hollys store crawling >>>>>>>>>>>>>>>>>>>>>>>>>>')\n",
        "  hollys_store(result)\n",
        "  hollys_tbl = pd.DataFrame(result, columns = ('store', 'sido-gu', 'address', 'phone'))\n",
        "  hollys_tbl.to_csv('/content/drive/My Drive/hollys.csv', encoding = 'cp949', mode = 'w', index = True)\n",
        "  del result[:] # 페이지 불러왔으면 지우기.\n",
        "\n",
        "main()\n"
      ],
      "metadata": {
        "colab": {
          "base_uri": "https://localhost:8080/"
        },
        "id": "1_bn5zFxNIJh",
        "outputId": "46288544-6642-4abf-a8bd-77aa8370ec92"
      },
      "execution_count": 5,
      "outputs": [
        {
          "output_type": "stream",
          "name": "stdout",
          "text": [
            "Hollys store crawling >>>>>>>>>>>>>>>>>>>>>>>>>>\n",
            "1 https://www.hollys.co.kr/store/korea/korStore2.do\n",
            "2 https://www.hollys.co.kr/store/korea/korStore2.do\n",
            "3 https://www.hollys.co.kr/store/korea/korStore2.do\n",
            "4 https://www.hollys.co.kr/store/korea/korStore2.do\n",
            "5 https://www.hollys.co.kr/store/korea/korStore2.do\n",
            "6 https://www.hollys.co.kr/store/korea/korStore2.do\n",
            "7 https://www.hollys.co.kr/store/korea/korStore2.do\n",
            "8 https://www.hollys.co.kr/store/korea/korStore2.do\n",
            "9 https://www.hollys.co.kr/store/korea/korStore2.do\n",
            "10 https://www.hollys.co.kr/store/korea/korStore2.do\n",
            "11 https://www.hollys.co.kr/store/korea/korStore2.do\n",
            "12 https://www.hollys.co.kr/store/korea/korStore2.do\n",
            "13 https://www.hollys.co.kr/store/korea/korStore2.do\n",
            "14 https://www.hollys.co.kr/store/korea/korStore2.do\n",
            "15 https://www.hollys.co.kr/store/korea/korStore2.do\n",
            "16 https://www.hollys.co.kr/store/korea/korStore2.do\n",
            "17 https://www.hollys.co.kr/store/korea/korStore2.do\n",
            "18 https://www.hollys.co.kr/store/korea/korStore2.do\n",
            "19 https://www.hollys.co.kr/store/korea/korStore2.do\n",
            "20 https://www.hollys.co.kr/store/korea/korStore2.do\n",
            "21 https://www.hollys.co.kr/store/korea/korStore2.do\n",
            "22 https://www.hollys.co.kr/store/korea/korStore2.do\n",
            "23 https://www.hollys.co.kr/store/korea/korStore2.do\n",
            "24 https://www.hollys.co.kr/store/korea/korStore2.do\n",
            "25 https://www.hollys.co.kr/store/korea/korStore2.do\n",
            "26 https://www.hollys.co.kr/store/korea/korStore2.do\n",
            "27 https://www.hollys.co.kr/store/korea/korStore2.do\n",
            "28 https://www.hollys.co.kr/store/korea/korStore2.do\n",
            "29 https://www.hollys.co.kr/store/korea/korStore2.do\n",
            "30 https://www.hollys.co.kr/store/korea/korStore2.do\n",
            "31 https://www.hollys.co.kr/store/korea/korStore2.do\n",
            "32 https://www.hollys.co.kr/store/korea/korStore2.do\n",
            "33 https://www.hollys.co.kr/store/korea/korStore2.do\n",
            "34 https://www.hollys.co.kr/store/korea/korStore2.do\n",
            "35 https://www.hollys.co.kr/store/korea/korStore2.do\n",
            "36 https://www.hollys.co.kr/store/korea/korStore2.do\n",
            "37 https://www.hollys.co.kr/store/korea/korStore2.do\n",
            "38 https://www.hollys.co.kr/store/korea/korStore2.do\n",
            "39 https://www.hollys.co.kr/store/korea/korStore2.do\n",
            "40 https://www.hollys.co.kr/store/korea/korStore2.do\n",
            "41 https://www.hollys.co.kr/store/korea/korStore2.do\n",
            "42 https://www.hollys.co.kr/store/korea/korStore2.do\n",
            "43 https://www.hollys.co.kr/store/korea/korStore2.do\n",
            "44 https://www.hollys.co.kr/store/korea/korStore2.do\n",
            "45 https://www.hollys.co.kr/store/korea/korStore2.do\n",
            "46 https://www.hollys.co.kr/store/korea/korStore2.do\n",
            "47 https://www.hollys.co.kr/store/korea/korStore2.do\n",
            "48 https://www.hollys.co.kr/store/korea/korStore2.do\n"
          ]
        }
      ]
    }
  ]
}